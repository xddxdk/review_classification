{
 "cells": [
  {
   "cell_type": "markdown",
   "id": "5ff27c42",
   "metadata": {},
   "source": [
    "**2. Clasic ML Models**\n",
    "\n",
    "Tuning and training classic ML models"
   ]
  },
  {
   "cell_type": "code",
   "execution_count": null,
   "id": "dadf4ec6",
   "metadata": {},
   "outputs": [],
   "source": [
    "from sklearn.feature_extraction.text import TfidfVectorizer\n",
    "from sklearn.model_selection import train_test_split, cross_val_score\n",
    "from sklearn.linear_model import LogisticRegression\n",
    "from sklearn.ensemble import RandomForestClassifier\n",
    "from sklearn.metrics import (\n",
    "    f1_score, precision_score, recall_score, classification_report,\n",
    "    roc_auc_score, roc_curve)\n",
    "from catboost import CatBoostClassifier, Pool\n",
    "import seaborn as sns\n",
    "import matplotlib.pyplot as plt\n",
    "import numpy as np\n",
    "import pandas as pd\n",
    "import optuna"
   ]
  },
  {
   "cell_type": "code",
   "execution_count": null,
   "id": "0d584714",
   "metadata": {},
   "outputs": [
    {
     "name": "stdout",
     "output_type": "stream",
     "text": [
      "11\n",
      "0\n"
     ]
    }
   ],
   "source": [
    "# NaN Checking\n",
    "df = pd.read_csv('clean_comments.csv')\n",
    "print(df['clean'].isna().sum())\n",
    "df = df.dropna(subset=['clean'])\n",
    "print(df['clean'].isna().sum())"
   ]
  },
  {
   "cell_type": "code",
   "execution_count": null,
   "id": "a85de500",
   "metadata": {},
   "outputs": [],
   "source": [
    "# Vectorize\n",
    "vectorizer = TfidfVectorizer(max_features=20000, ngram_range=(1, 2), min_df=2)\n",
    "X = vectorizer.fit_transform(df['clean'])\n",
    "y = df['relevant']\n",
    "\n",
    "# Split data\n",
    "X_temp, X_test, y_temp, y_test = train_test_split(X, y, test_size=0.2, random_state=42, stratify=y, shuffle=True)\n",
    "X_train, X_val, y_train, y_val = train_test_split(X_temp, y_temp, test_size=0.25, random_state=42, stratify=y_temp, shuffle=True)"
   ]
  },
  {
   "cell_type": "markdown",
   "id": "c55af5f5",
   "metadata": {},
   "source": [
    "- Optuna (tuning)"
   ]
  },
  {
   "cell_type": "code",
   "execution_count": null,
   "id": "74ed96cc",
   "metadata": {},
   "outputs": [
    {
     "name": "stderr",
     "output_type": "stream",
     "text": [
      "[I 2025-06-11 16:17:36,778] A new study created in memory with name: no-name-8aee382a-dc09-42c5-9a92-4f12301867a1\n",
      "C:\\Users\\kpodd\\AppData\\Local\\Temp\\ipykernel_6576\\4284430219.py:3: FutureWarning: suggest_loguniform has been deprecated in v3.0.0. This feature will be removed in v6.0.0. See https://github.com/optuna/optuna/releases/tag/v3.0.0. Use suggest_float(..., log=True) instead.\n",
      "  c = trial.suggest_loguniform('C', 1e-4, 10)\n",
      "[I 2025-06-11 16:17:37,138] Trial 0 finished with value: 0.8297237315374608 and parameters: {'C': 7.40508504574748, 'max_iter': 1400}. Best is trial 0 with value: 0.8297237315374608.\n",
      "C:\\Users\\kpodd\\AppData\\Local\\Temp\\ipykernel_6576\\4284430219.py:3: FutureWarning: suggest_loguniform has been deprecated in v3.0.0. This feature will be removed in v6.0.0. See https://github.com/optuna/optuna/releases/tag/v3.0.0. Use suggest_float(..., log=True) instead.\n",
      "  c = trial.suggest_loguniform('C', 1e-4, 10)\n",
      "[I 2025-06-11 16:17:37,159] Trial 1 finished with value: 0.8345265975242556 and parameters: {'C': 0.0013062375565657408, 'max_iter': 1200}. Best is trial 1 with value: 0.8345265975242556.\n",
      "C:\\Users\\kpodd\\AppData\\Local\\Temp\\ipykernel_6576\\4284430219.py:3: FutureWarning: suggest_loguniform has been deprecated in v3.0.0. This feature will be removed in v6.0.0. See https://github.com/optuna/optuna/releases/tag/v3.0.0. Use suggest_float(..., log=True) instead.\n",
      "  c = trial.suggest_loguniform('C', 1e-4, 10)\n",
      "[I 2025-06-11 16:17:37,273] Trial 2 finished with value: 0.842793867120954 and parameters: {'C': 0.22287995103213543, 'max_iter': 2000}. Best is trial 2 with value: 0.842793867120954.\n",
      "C:\\Users\\kpodd\\AppData\\Local\\Temp\\ipykernel_6576\\4284430219.py:3: FutureWarning: suggest_loguniform has been deprecated in v3.0.0. This feature will be removed in v6.0.0. See https://github.com/optuna/optuna/releases/tag/v3.0.0. Use suggest_float(..., log=True) instead.\n",
      "  c = trial.suggest_loguniform('C', 1e-4, 10)\n",
      "[I 2025-06-11 16:17:37,381] Trial 3 finished with value: 0.842477394792304 and parameters: {'C': 0.2048524554520988, 'max_iter': 1800}. Best is trial 2 with value: 0.842793867120954.\n",
      "C:\\Users\\kpodd\\AppData\\Local\\Temp\\ipykernel_6576\\4284430219.py:3: FutureWarning: suggest_loguniform has been deprecated in v3.0.0. This feature will be removed in v6.0.0. See https://github.com/optuna/optuna/releases/tag/v3.0.0. Use suggest_float(..., log=True) instead.\n",
      "  c = trial.suggest_loguniform('C', 1e-4, 10)\n",
      "[I 2025-06-11 16:17:37,403] Trial 4 finished with value: 0.8345265975242556 and parameters: {'C': 0.003913759442350709, 'max_iter': 1600}. Best is trial 2 with value: 0.842793867120954.\n",
      "C:\\Users\\kpodd\\AppData\\Local\\Temp\\ipykernel_6576\\4284430219.py:3: FutureWarning: suggest_loguniform has been deprecated in v3.0.0. This feature will be removed in v6.0.0. See https://github.com/optuna/optuna/releases/tag/v3.0.0. Use suggest_float(..., log=True) instead.\n",
      "  c = trial.suggest_loguniform('C', 1e-4, 10)\n",
      "[I 2025-06-11 16:17:37,497] Trial 5 finished with value: 0.8437009218163196 and parameters: {'C': 0.23547581412391105, 'max_iter': 1400}. Best is trial 5 with value: 0.8437009218163196.\n",
      "C:\\Users\\kpodd\\AppData\\Local\\Temp\\ipykernel_6576\\4284430219.py:3: FutureWarning: suggest_loguniform has been deprecated in v3.0.0. This feature will be removed in v6.0.0. See https://github.com/optuna/optuna/releases/tag/v3.0.0. Use suggest_float(..., log=True) instead.\n",
      "  c = trial.suggest_loguniform('C', 1e-4, 10)\n",
      "[I 2025-06-11 16:17:37,555] Trial 6 finished with value: 0.8345265975242556 and parameters: {'C': 0.03308950147757047, 'max_iter': 2000}. Best is trial 5 with value: 0.8437009218163196.\n",
      "C:\\Users\\kpodd\\AppData\\Local\\Temp\\ipykernel_6576\\4284430219.py:3: FutureWarning: suggest_loguniform has been deprecated in v3.0.0. This feature will be removed in v6.0.0. See https://github.com/optuna/optuna/releases/tag/v3.0.0. Use suggest_float(..., log=True) instead.\n",
      "  c = trial.suggest_loguniform('C', 1e-4, 10)\n",
      "[I 2025-06-11 16:17:37,629] Trial 7 finished with value: 0.8346382921769391 and parameters: {'C': 0.06461423754679048, 'max_iter': 1800}. Best is trial 5 with value: 0.8437009218163196.\n",
      "C:\\Users\\kpodd\\AppData\\Local\\Temp\\ipykernel_6576\\4284430219.py:3: FutureWarning: suggest_loguniform has been deprecated in v3.0.0. This feature will be removed in v6.0.0. See https://github.com/optuna/optuna/releases/tag/v3.0.0. Use suggest_float(..., log=True) instead.\n",
      "  c = trial.suggest_loguniform('C', 1e-4, 10)\n",
      "[I 2025-06-11 16:17:37,646] Trial 8 finished with value: 0.8345265975242556 and parameters: {'C': 0.00030399549981423144, 'max_iter': 2000}. Best is trial 5 with value: 0.8437009218163196.\n",
      "C:\\Users\\kpodd\\AppData\\Local\\Temp\\ipykernel_6576\\4284430219.py:3: FutureWarning: suggest_loguniform has been deprecated in v3.0.0. This feature will be removed in v6.0.0. See https://github.com/optuna/optuna/releases/tag/v3.0.0. Use suggest_float(..., log=True) instead.\n",
      "  c = trial.suggest_loguniform('C', 1e-4, 10)\n",
      "[I 2025-06-11 16:17:37,762] Trial 9 finished with value: 0.8445973847212663 and parameters: {'C': 0.2933163118263663, 'max_iter': 1400}. Best is trial 9 with value: 0.8445973847212663.\n",
      "C:\\Users\\kpodd\\AppData\\Local\\Temp\\ipykernel_6576\\4284430219.py:3: FutureWarning: suggest_loguniform has been deprecated in v3.0.0. This feature will be removed in v6.0.0. See https://github.com/optuna/optuna/releases/tag/v3.0.0. Use suggest_float(..., log=True) instead.\n",
      "  c = trial.suggest_loguniform('C', 1e-4, 10)\n",
      "[I 2025-06-11 16:17:38,011] Trial 10 finished with value: 0.8338156892612338 and parameters: {'C': 5.5958977730201775, 'max_iter': 1000}. Best is trial 9 with value: 0.8445973847212663.\n",
      "C:\\Users\\kpodd\\AppData\\Local\\Temp\\ipykernel_6576\\4284430219.py:3: FutureWarning: suggest_loguniform has been deprecated in v3.0.0. This feature will be removed in v6.0.0. See https://github.com/optuna/optuna/releases/tag/v3.0.0. Use suggest_float(..., log=True) instead.\n",
      "  c = trial.suggest_loguniform('C', 1e-4, 10)\n",
      "[I 2025-06-11 16:17:38,183] Trial 11 finished with value: 0.847670639219935 and parameters: {'C': 0.9019051894788114, 'max_iter': 1400}. Best is trial 11 with value: 0.847670639219935.\n",
      "C:\\Users\\kpodd\\AppData\\Local\\Temp\\ipykernel_6576\\4284430219.py:3: FutureWarning: suggest_loguniform has been deprecated in v3.0.0. This feature will be removed in v6.0.0. See https://github.com/optuna/optuna/releases/tag/v3.0.0. Use suggest_float(..., log=True) instead.\n",
      "  c = trial.suggest_loguniform('C', 1e-4, 10)\n",
      "[I 2025-06-11 16:17:38,336] Trial 12 finished with value: 0.8474056775888491 and parameters: {'C': 1.2076883499537736, 'max_iter': 1200}. Best is trial 11 with value: 0.847670639219935.\n",
      "C:\\Users\\kpodd\\AppData\\Local\\Temp\\ipykernel_6576\\4284430219.py:3: FutureWarning: suggest_loguniform has been deprecated in v3.0.0. This feature will be removed in v6.0.0. See https://github.com/optuna/optuna/releases/tag/v3.0.0. Use suggest_float(..., log=True) instead.\n",
      "  c = trial.suggest_loguniform('C', 1e-4, 10)\n",
      "[I 2025-06-11 16:17:38,497] Trial 13 finished with value: 0.8458311869894768 and parameters: {'C': 1.637494282734375, 'max_iter': 1000}. Best is trial 11 with value: 0.847670639219935.\n",
      "C:\\Users\\kpodd\\AppData\\Local\\Temp\\ipykernel_6576\\4284430219.py:3: FutureWarning: suggest_loguniform has been deprecated in v3.0.0. This feature will be removed in v6.0.0. See https://github.com/optuna/optuna/releases/tag/v3.0.0. Use suggest_float(..., log=True) instead.\n",
      "  c = trial.suggest_loguniform('C', 1e-4, 10)\n",
      "[I 2025-06-11 16:17:38,670] Trial 14 finished with value: 0.8454458434577719 and parameters: {'C': 1.656654249726447, 'max_iter': 1200}. Best is trial 11 with value: 0.847670639219935.\n",
      "C:\\Users\\kpodd\\AppData\\Local\\Temp\\ipykernel_6576\\4284430219.py:3: FutureWarning: suggest_loguniform has been deprecated in v3.0.0. This feature will be removed in v6.0.0. See https://github.com/optuna/optuna/releases/tag/v3.0.0. Use suggest_float(..., log=True) instead.\n",
      "  c = trial.suggest_loguniform('C', 1e-4, 10)\n",
      "[I 2025-06-11 16:17:38,847] Trial 15 finished with value: 0.8460122247588188 and parameters: {'C': 1.6877356159334123, 'max_iter': 1200}. Best is trial 11 with value: 0.847670639219935.\n",
      "C:\\Users\\kpodd\\AppData\\Local\\Temp\\ipykernel_6576\\4284430219.py:3: FutureWarning: suggest_loguniform has been deprecated in v3.0.0. This feature will be removed in v6.0.0. See https://github.com/optuna/optuna/releases/tag/v3.0.0. Use suggest_float(..., log=True) instead.\n",
      "  c = trial.suggest_loguniform('C', 1e-4, 10)\n",
      "[I 2025-06-11 16:17:38,897] Trial 16 finished with value: 0.8345265975242556 and parameters: {'C': 0.006119079947446607, 'max_iter': 1600}. Best is trial 11 with value: 0.847670639219935.\n",
      "C:\\Users\\kpodd\\AppData\\Local\\Temp\\ipykernel_6576\\4284430219.py:3: FutureWarning: suggest_loguniform has been deprecated in v3.0.0. This feature will be removed in v6.0.0. See https://github.com/optuna/optuna/releases/tag/v3.0.0. Use suggest_float(..., log=True) instead.\n",
      "  c = trial.suggest_loguniform('C', 1e-4, 10)\n",
      "[I 2025-06-11 16:17:39,060] Trial 17 finished with value: 0.8487685438571223 and parameters: {'C': 0.8436381635855138, 'max_iter': 1200}. Best is trial 17 with value: 0.8487685438571223.\n",
      "C:\\Users\\kpodd\\AppData\\Local\\Temp\\ipykernel_6576\\4284430219.py:3: FutureWarning: suggest_loguniform has been deprecated in v3.0.0. This feature will be removed in v6.0.0. See https://github.com/optuna/optuna/releases/tag/v3.0.0. Use suggest_float(..., log=True) instead.\n",
      "  c = trial.suggest_loguniform('C', 1e-4, 10)\n",
      "[I 2025-06-11 16:17:39,141] Trial 18 finished with value: 0.8346941507161023 and parameters: {'C': 0.06855009006394747, 'max_iter': 1000}. Best is trial 17 with value: 0.8487685438571223.\n",
      "C:\\Users\\kpodd\\AppData\\Local\\Temp\\ipykernel_6576\\4284430219.py:3: FutureWarning: suggest_loguniform has been deprecated in v3.0.0. This feature will be removed in v6.0.0. See https://github.com/optuna/optuna/releases/tag/v3.0.0. Use suggest_float(..., log=True) instead.\n",
      "  c = trial.suggest_loguniform('C', 1e-4, 10)\n",
      "[I 2025-06-11 16:17:39,195] Trial 19 finished with value: 0.8345265975242556 and parameters: {'C': 0.011844233180747569, 'max_iter': 1600}. Best is trial 17 with value: 0.8487685438571223.\n",
      "C:\\Users\\kpodd\\AppData\\Local\\Temp\\ipykernel_6576\\4284430219.py:3: FutureWarning: suggest_loguniform has been deprecated in v3.0.0. This feature will be removed in v6.0.0. See https://github.com/optuna/optuna/releases/tag/v3.0.0. Use suggest_float(..., log=True) instead.\n",
      "  c = trial.suggest_loguniform('C', 1e-4, 10)\n",
      "[I 2025-06-11 16:17:39,335] Trial 20 finished with value: 0.8492193626577316 and parameters: {'C': 0.6455524580380927, 'max_iter': 1400}. Best is trial 20 with value: 0.8492193626577316.\n",
      "C:\\Users\\kpodd\\AppData\\Local\\Temp\\ipykernel_6576\\4284430219.py:3: FutureWarning: suggest_loguniform has been deprecated in v3.0.0. This feature will be removed in v6.0.0. See https://github.com/optuna/optuna/releases/tag/v3.0.0. Use suggest_float(..., log=True) instead.\n",
      "  c = trial.suggest_loguniform('C', 1e-4, 10)\n",
      "[I 2025-06-11 16:17:39,477] Trial 21 finished with value: 0.8487058487058488 and parameters: {'C': 0.7003119712343752, 'max_iter': 1400}. Best is trial 20 with value: 0.8492193626577316.\n",
      "C:\\Users\\kpodd\\AppData\\Local\\Temp\\ipykernel_6576\\4284430219.py:3: FutureWarning: suggest_loguniform has been deprecated in v3.0.0. This feature will be removed in v6.0.0. See https://github.com/optuna/optuna/releases/tag/v3.0.0. Use suggest_float(..., log=True) instead.\n",
      "  c = trial.suggest_loguniform('C', 1e-4, 10)\n",
      "[I 2025-06-11 16:17:39,619] Trial 22 finished with value: 0.8489579603237126 and parameters: {'C': 0.7314265515938627, 'max_iter': 1200}. Best is trial 20 with value: 0.8492193626577316.\n",
      "C:\\Users\\kpodd\\AppData\\Local\\Temp\\ipykernel_6576\\4284430219.py:3: FutureWarning: suggest_loguniform has been deprecated in v3.0.0. This feature will be removed in v6.0.0. See https://github.com/optuna/optuna/releases/tag/v3.0.0. Use suggest_float(..., log=True) instead.\n",
      "  c = trial.suggest_loguniform('C', 1e-4, 10)\n",
      "[I 2025-06-11 16:17:39,855] Trial 23 finished with value: 0.838802142264464 and parameters: {'C': 3.856085349016005, 'max_iter': 1200}. Best is trial 20 with value: 0.8492193626577316.\n",
      "C:\\Users\\kpodd\\AppData\\Local\\Temp\\ipykernel_6576\\4284430219.py:3: FutureWarning: suggest_loguniform has been deprecated in v3.0.0. This feature will be removed in v6.0.0. See https://github.com/optuna/optuna/releases/tag/v3.0.0. Use suggest_float(..., log=True) instead.\n",
      "  c = trial.suggest_loguniform('C', 1e-4, 10)\n",
      "[I 2025-06-11 16:17:39,959] Trial 24 finished with value: 0.8466908684724938 and parameters: {'C': 0.3953554759466734, 'max_iter': 1200}. Best is trial 20 with value: 0.8492193626577316.\n",
      "C:\\Users\\kpodd\\AppData\\Local\\Temp\\ipykernel_6576\\4284430219.py:3: FutureWarning: suggest_loguniform has been deprecated in v3.0.0. This feature will be removed in v6.0.0. See https://github.com/optuna/optuna/releases/tag/v3.0.0. Use suggest_float(..., log=True) instead.\n",
      "  c = trial.suggest_loguniform('C', 1e-4, 10)\n",
      "[I 2025-06-11 16:17:40,028] Trial 25 finished with value: 0.834805890227577 and parameters: {'C': 0.07542158130160379, 'max_iter': 1000}. Best is trial 20 with value: 0.8492193626577316.\n",
      "C:\\Users\\kpodd\\AppData\\Local\\Temp\\ipykernel_6576\\4284430219.py:3: FutureWarning: suggest_loguniform has been deprecated in v3.0.0. This feature will be removed in v6.0.0. See https://github.com/optuna/optuna/releases/tag/v3.0.0. Use suggest_float(..., log=True) instead.\n",
      "  c = trial.suggest_loguniform('C', 1e-4, 10)\n",
      "[I 2025-06-11 16:17:40,218] Trial 26 finished with value: 0.8393704345206717 and parameters: {'C': 3.446711162344885, 'max_iter': 1200}. Best is trial 20 with value: 0.8492193626577316.\n",
      "C:\\Users\\kpodd\\AppData\\Local\\Temp\\ipykernel_6576\\4284430219.py:3: FutureWarning: suggest_loguniform has been deprecated in v3.0.0. This feature will be removed in v6.0.0. See https://github.com/optuna/optuna/releases/tag/v3.0.0. Use suggest_float(..., log=True) instead.\n",
      "  c = trial.suggest_loguniform('C', 1e-4, 10)\n",
      "[I 2025-06-11 16:17:40,310] Trial 27 finished with value: 0.8367127702430509 and parameters: {'C': 0.11491040735232597, 'max_iter': 1400}. Best is trial 20 with value: 0.8492193626577316.\n",
      "C:\\Users\\kpodd\\AppData\\Local\\Temp\\ipykernel_6576\\4284430219.py:3: FutureWarning: suggest_loguniform has been deprecated in v3.0.0. This feature will be removed in v6.0.0. See https://github.com/optuna/optuna/releases/tag/v3.0.0. Use suggest_float(..., log=True) instead.\n",
      "  c = trial.suggest_loguniform('C', 1e-4, 10)\n",
      "[I 2025-06-11 16:17:40,430] Trial 28 finished with value: 0.8469366271317286 and parameters: {'C': 0.45959088508073437, 'max_iter': 1000}. Best is trial 20 with value: 0.8492193626577316.\n",
      "C:\\Users\\kpodd\\AppData\\Local\\Temp\\ipykernel_6576\\4284430219.py:3: FutureWarning: suggest_loguniform has been deprecated in v3.0.0. This feature will be removed in v6.0.0. See https://github.com/optuna/optuna/releases/tag/v3.0.0. Use suggest_float(..., log=True) instead.\n",
      "  c = trial.suggest_loguniform('C', 1e-4, 10)\n",
      "[I 2025-06-11 16:17:40,661] Trial 29 finished with value: 0.8314864348490638 and parameters: {'C': 7.310066978172495, 'max_iter': 1400}. Best is trial 20 with value: 0.8492193626577316.\n"
     ]
    }
   ],
   "source": [
    "# Logistic Regression\n",
    "def objective_lr(trial):\n",
    "    c = trial.suggest_loguniform('C', 1e-4, 10)\n",
    "    iter = trial.suggest_int('max_iter', 1000, 2000, step=200)\n",
    "    model = LogisticRegression(C=c, max_iter=iter)\n",
    "    model.fit(X_train, y_train)\n",
    "    preds = model.predict(X_val)\n",
    "    return f1_score(y_val, preds)\n",
    "\n",
    "study_lr = optuna.create_study(direction='maximize')\n",
    "study_lr.optimize(objective_lr, n_trials=30)\n",
    "\n",
    "best_lr = LogisticRegression(**study_lr.best_params)\n",
    "best_lr.fit(X_train, y_train)\n",
    "y_pred_lr = best_lr.predict(X_test)"
   ]
  },
  {
   "cell_type": "code",
   "execution_count": null,
   "id": "9d0db0f9",
   "metadata": {},
   "outputs": [
    {
     "name": "stderr",
     "output_type": "stream",
     "text": [
      "[I 2025-06-11 16:19:27,924] A new study created in memory with name: no-name-3162c625-a410-460c-b7d1-74ed34d21b5e\n",
      "[I 2025-06-11 16:19:29,767] Trial 0 finished with value: 0.8345265975242556 and parameters: {'n_estimators': 350, 'max_depth': 5}. Best is trial 0 with value: 0.8345265975242556.\n",
      "[I 2025-06-11 16:19:34,193] Trial 1 finished with value: 0.8345265975242556 and parameters: {'n_estimators': 150, 'max_depth': 20}. Best is trial 0 with value: 0.8345265975242556.\n",
      "[I 2025-06-11 16:19:34,474] Trial 2 finished with value: 0.8345265975242556 and parameters: {'n_estimators': 50, 'max_depth': 5}. Best is trial 0 with value: 0.8345265975242556.\n",
      "[I 2025-06-11 16:19:40,058] Trial 3 finished with value: 0.8345265975242556 and parameters: {'n_estimators': 300, 'max_depth': 15}. Best is trial 0 with value: 0.8345265975242556.\n",
      "[I 2025-06-11 16:19:43,245] Trial 4 finished with value: 0.8345265975242556 and parameters: {'n_estimators': 300, 'max_depth': 10}. Best is trial 0 with value: 0.8345265975242556.\n",
      "[I 2025-06-11 16:19:55,147] Trial 5 finished with value: 0.8345265975242556 and parameters: {'n_estimators': 400, 'max_depth': 20}. Best is trial 0 with value: 0.8345265975242556.\n",
      "[I 2025-06-11 16:20:03,873] Trial 6 finished with value: 0.8345265975242556 and parameters: {'n_estimators': 450, 'max_depth': 15}. Best is trial 0 with value: 0.8345265975242556.\n",
      "[I 2025-06-11 16:20:17,467] Trial 7 finished with value: 0.8345265975242556 and parameters: {'n_estimators': 450, 'max_depth': 20}. Best is trial 0 with value: 0.8345265975242556.\n",
      "[I 2025-06-11 16:20:31,445] Trial 8 finished with value: 0.8346382921769391 and parameters: {'n_estimators': 250, 'max_depth': 30}. Best is trial 8 with value: 0.8346382921769391.\n",
      "[I 2025-06-11 16:20:48,262] Trial 9 finished with value: 0.8345824411134903 and parameters: {'n_estimators': 400, 'max_depth': 25}. Best is trial 8 with value: 0.8346382921769391.\n"
     ]
    }
   ],
   "source": [
    "# Random Forest\n",
    "def objective_rf(trial):\n",
    "    n_estimators = trial.suggest_int('n_estimators', 50, 500, step=50)\n",
    "    max_depth = trial.suggest_int('max_depth', 5, 30, step=5)\n",
    "    model = RandomForestClassifier(n_estimators=n_estimators, max_depth=max_depth, random_state=42)\n",
    "    model.fit(X_train, y_train)\n",
    "    preds = model.predict(X_val)\n",
    "    return f1_score(y_val, preds)\n",
    "\n",
    "study_rf = optuna.create_study(direction='maximize')\n",
    "study_rf.optimize(objective_rf, n_trials=10)\n",
    "\n",
    "best_rf = RandomForestClassifier(**study_rf.best_params, random_state=42)\n",
    "best_rf.fit(X_train, y_train)\n",
    "y_pred_rf = best_rf.predict(X_test)"
   ]
  },
  {
   "cell_type": "code",
   "execution_count": 23,
   "id": "09e6e196",
   "metadata": {},
   "outputs": [
    {
     "name": "stderr",
     "output_type": "stream",
     "text": [
      "[I 2025-06-11 16:26:18,632] A new study created in memory with name: no-name-681c2bcf-4aef-4662-be44-75a4883cd287\n",
      "[I 2025-06-11 16:29:45,594] Trial 0 finished with value: 0.8402610786671247 and parameters: {'iterations': 500, 'depth': 8, 'learning_rate': 0.02676842730808082}. Best is trial 0 with value: 0.8402610786671247.\n",
      "[I 2025-06-11 16:30:38,281] Trial 1 finished with value: 0.8424276169265034 and parameters: {'iterations': 600, 'depth': 5, 'learning_rate': 0.04861113604485205}. Best is trial 1 with value: 0.8424276169265034.\n",
      "[I 2025-06-11 16:31:18,946] Trial 2 finished with value: 0.8401514048624253 and parameters: {'iterations': 700, 'depth': 4, 'learning_rate': 0.19955385217587226}. Best is trial 1 with value: 0.8424276169265034.\n",
      "[I 2025-06-11 16:31:42,014] Trial 3 finished with value: 0.8415377074434564 and parameters: {'iterations': 400, 'depth': 4, 'learning_rate': 0.10562343047382008}. Best is trial 1 with value: 0.8424276169265034.\n",
      "[I 2025-06-11 16:35:53,385] Trial 4 finished with value: 0.8439501654114169 and parameters: {'iterations': 600, 'depth': 8, 'learning_rate': 0.04488137261845313}. Best is trial 4 with value: 0.8439501654114169.\n"
     ]
    },
    {
     "name": "stdout",
     "output_type": "stream",
     "text": [
      "0:\tlearn: 0.6788414\ttotal: 444ms\tremaining: 4m 26s\n",
      "100:\tlearn: 0.5183151\ttotal: 42.2s\tremaining: 3m 28s\n",
      "200:\tlearn: 0.4960386\ttotal: 1m 24s\tremaining: 2m 47s\n",
      "300:\tlearn: 0.4785383\ttotal: 2m 5s\tremaining: 2m 4s\n",
      "400:\tlearn: 0.4632126\ttotal: 2m 46s\tremaining: 1m 22s\n",
      "500:\tlearn: 0.4501770\ttotal: 3m 28s\tremaining: 41.1s\n",
      "599:\tlearn: 0.4381100\ttotal: 4m 10s\tremaining: 0us\n"
     ]
    }
   ],
   "source": [
    "# CatBoost\n",
    "def objective_cb(trial):\n",
    "    params = {\n",
    "        'iterations': trial.suggest_int('iterations', 200, 800, step=100),\n",
    "        'depth': trial.suggest_int('depth', 4, 8),\n",
    "        'learning_rate': trial.suggest_float('learning_rate', 0.01, 0.3, log=True),\n",
    "        'verbose': 0,\n",
    "        'random_seed': 42\n",
    "    }\n",
    "    model = CatBoostClassifier(**params)\n",
    "    model.fit(X_train, y_train)\n",
    "    preds = model.predict(X_val)\n",
    "    return f1_score(y_val, preds)\n",
    "\n",
    "study_cb = optuna.create_study(direction='maximize')\n",
    "study_cb.optimize(objective_cb, n_trials=5)\n",
    "\n",
    "best_cb = CatBoostClassifier(**study_cb.best_params, verbose=100, random_state=42)\n",
    "best_cb.fit(X_train, y_train)\n",
    "y_pred_cb = best_cb.predict(X_test)"
   ]
  },
  {
   "cell_type": "markdown",
   "id": "c9d35832",
   "metadata": {},
   "source": [
    "- Evaluating models"
   ]
  },
  {
   "cell_type": "code",
   "execution_count": 27,
   "id": "880b11b7",
   "metadata": {},
   "outputs": [
    {
     "name": "stdout",
     "output_type": "stream",
     "text": [
      "\n",
      " Logistic Regression\n",
      "              precision    recall  f1-score   support\n",
      "\n",
      "           0      0.680     0.268     0.385      2473\n",
      "           1      0.766     0.950     0.848      6236\n",
      "\n",
      "    accuracy                          0.756      8709\n",
      "   macro avg      0.723     0.609     0.617      8709\n",
      "weighted avg      0.742     0.756     0.717      8709\n",
      "\n",
      "F1: 0.8480813287514318\n",
      "Precision: 0.7660372478013451\n",
      "Recall: 0.949807568954458\n",
      "ROC-AUC: 0.7943181809339456\n",
      "\n",
      " Random Forest\n",
      "              precision    recall  f1-score   support\n",
      "\n",
      "           0      1.000     0.002     0.003      2473\n",
      "           1      0.716     1.000     0.835      6236\n",
      "\n",
      "    accuracy                          0.717      8709\n",
      "   macro avg      0.858     0.501     0.419      8709\n",
      "weighted avg      0.797     0.717     0.599      8709\n",
      "\n",
      "F1: 0.8347500167324811\n",
      "Precision: 0.7163699023549684\n",
      "Recall: 1.0\n",
      "ROC-AUC: 0.7719144178552355\n",
      "\n",
      " CatBoost\n",
      "              precision    recall  f1-score   support\n",
      "\n",
      "           0      0.667     0.227     0.339      2473\n",
      "           1      0.757     0.955     0.845      6236\n",
      "\n",
      "    accuracy                          0.748      8709\n",
      "   macro avg      0.712     0.591     0.592      8709\n",
      "weighted avg      0.731     0.748     0.701      8709\n",
      "\n",
      "F1: 0.8445610551694795\n",
      "Precision: 0.7570556826849733\n",
      "Recall: 0.954939063502245\n",
      "ROC-AUC: 0.7887113798880379\n"
     ]
    }
   ],
   "source": [
    "#Metrics\n",
    "def evaluate_model(y_true, y_pred, probs, model_name):\n",
    "    print('\\n', model_name)\n",
    "    print(classification_report(y_true, y_pred, digits=3))\n",
    "    print(\"F1:\", f1_score(y_true, y_pred))\n",
    "    print(\"Precision:\", precision_score(y_true, y_pred))\n",
    "    print(\"Recall:\", recall_score(y_true, y_pred))\n",
    "    print(\"ROC-AUC:\", roc_auc_score(y_true, probs))\n",
    "\n",
    "evaluate_model(y_test, y_pred_lr, best_lr.predict_proba(X_test)[:, 1], \"Logistic Regression\")\n",
    "evaluate_model(y_test, y_pred_rf, best_rf.predict_proba(X_test)[:, 1], \"Random Forest\")\n",
    "evaluate_model(y_test, y_pred_cb, best_cb.predict_proba(X_test)[:, 1], \"CatBoost\")"
   ]
  },
  {
   "cell_type": "code",
   "execution_count": 25,
   "id": "e95e1561",
   "metadata": {},
   "outputs": [
    {
     "data": {
      "image/png": "[encoded data removed]",
      "text/plain": [
       "<Figure size 1500x600 with 1 Axes>"
      ]
     },
     "metadata": {},
     "output_type": "display_data"
    }
   ],
   "source": [
    "#ROC-Curve funtion\n",
    "def plot_roc(models, names):\n",
    "    plt.figure(figsize=(15, 6))\n",
    "    plt.subplot(1, 2, 1)\n",
    "    for model, name in zip(models, names):\n",
    "        fpr, tpr, _ = roc_curve(y_test, model.predict_proba(X_test)[:, 1])\n",
    "        plt.plot(fpr, tpr, label=name)\n",
    "    plt.plot([0, 1], [0, 1], 'k--')\n",
    "    plt.title(\"ROC Curves\")\n",
    "    plt.xlabel(\"FPR\")\n",
    "    plt.ylabel(\"TPR\")\n",
    "    plt.legend()\n",
    "    plt.tight_layout()\n",
    "    plt.show()\n",
    "\n",
    "plot_roc(\n",
    "    [best_lr, best_rf, best_cb],\n",
    "    [\"LogReg\", \"RandomForest\", \"CatBoost\"]\n",
    ")"
   ]
  },
  {
   "cell_type": "markdown",
   "id": "bdbb0eb9",
   "metadata": {},
   "source": [
    "The aim of the project - identify and remove **all irrelevant** reviews, in order to ensure that the analytics are accurate and reliable.\n",
    "\n",
    "That's why **recall** is very iportant metric for us.\n",
    "\n",
    "Focusing on recall, the best is Random Forest Classifier, but it remove nearly 30% of relevant omments by mistake.\n",
    "\n",
    "It's ok for us, because this is in line with the goals of the project.\n",
    "\n",
    "The duration of the training should also be taken into attention. Logistic regression has learned much faster than other models. Random Forest has a balance. Сatboost training takes too much time.\n",
    "\n",
    "In conclusion, the best classic model for our project is **Random Forest Classifier**."
   ]
  }
 ],
 "metadata": {
  "kernelspec": {
   "display_name": "Python 3",
   "language": "python",
   "name": "python3"
  },
  "language_info": {
   "codemirror_mode": {
    "name": "ipython",
    "version": 3
   },
   "file_extension": ".py",
   "mimetype": "text/x-python",
   "name": "python",
   "nbconvert_exporter": "python",
   "pygments_lexer": "ipython3",
   "version": "3.13.3"
  }
 },
 "nbformat": 4,
 "nbformat_minor": 5
}
