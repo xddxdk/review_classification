{
 "cells": [
  {
   "cell_type": "markdown",
   "id": "01df949c",
   "metadata": {},
   "source": [
    "**1. Data analyze and cleaning**\n",
    "\n",
    "Loading data, clearing text from noise, lemmatization"
   ]
  },
  {
   "cell_type": "code",
   "execution_count": 2,
   "id": "bdbf90e6",
   "metadata": {},
   "outputs": [],
   "source": [
    "import pandas as pd\n",
    "import re\n",
    "import nltk\n",
    "from nltk.corpus import stopwords\n",
    "import spacy\n",
    "from tqdm import tqdm"
   ]
  },
  {
   "cell_type": "code",
   "execution_count": 3,
   "id": "cf75a72d",
   "metadata": {},
   "outputs": [
    {
     "data": {
      "text/html": [
       "<div>\n",
       "<style scoped>\n",
       "    .dataframe tbody tr th:only-of-type {\n",
       "        vertical-align: middle;\n",
       "    }\n",
       "\n",
       "    .dataframe tbody tr th {\n",
       "        vertical-align: top;\n",
       "    }\n",
       "\n",
       "    .dataframe thead th {\n",
       "        text-align: right;\n",
       "    }\n",
       "</style>\n",
       "<table border=\"1\" class=\"dataframe\">\n",
       "  <thead>\n",
       "    <tr style=\"text-align: right;\">\n",
       "      <th></th>\n",
       "      <th>text</th>\n",
       "      <th>relevant</th>\n",
       "    </tr>\n",
       "  </thead>\n",
       "  <tbody>\n",
       "    <tr>\n",
       "      <th>0</th>\n",
       "      <td>Единственный в стране, нисколько не сомневаюсь...</td>\n",
       "      <td>1</td>\n",
       "    </tr>\n",
       "    <tr>\n",
       "      <th>1</th>\n",
       "      <td>Замечательная женщина и преподаватель!🌺</td>\n",
       "      <td>1</td>\n",
       "    </tr>\n",
       "    <tr>\n",
       "      <th>2</th>\n",
       "      <td>Пересдача,курсовая  ,удача 😁не все так плохо в...</td>\n",
       "      <td>1</td>\n",
       "    </tr>\n",
       "    <tr>\n",
       "      <th>3</th>\n",
       "      <td>Для потенциальных абитуриентов (студентов) пол...</td>\n",
       "      <td>1</td>\n",
       "    </tr>\n",
       "    <tr>\n",
       "      <th>4</th>\n",
       "      <td>Рейтинг Вуза это конечно здорово, но 5 бюджетн...</td>\n",
       "      <td>1</td>\n",
       "    </tr>\n",
       "  </tbody>\n",
       "</table>\n",
       "</div>"
      ],
      "text/plain": [
       "                                                text  relevant\n",
       "0  Единственный в стране, нисколько не сомневаюсь...         1\n",
       "1            Замечательная женщина и преподаватель!🌺         1\n",
       "2  Пересдача,курсовая  ,удача 😁не все так плохо в...         1\n",
       "3  Для потенциальных абитуриентов (студентов) пол...         1\n",
       "4  Рейтинг Вуза это конечно здорово, но 5 бюджетн...         1"
      ]
     },
     "metadata": {},
     "output_type": "display_data"
    },
    {
     "name": "stdout",
     "output_type": "stream",
     "text": [
      "(43553, 2)\n",
      "relevant\n",
      "1    31177\n",
      "0    12376\n",
      "Name: count, dtype: int64\n"
     ]
    }
   ],
   "source": [
    "df=pd.read_csv('data.csv')\n",
    "display(df.head(5))\n",
    "print(df.shape)\n",
    "print(df['relevant'].value_counts())"
   ]
  },
  {
   "cell_type": "code",
   "execution_count": null,
   "id": "5948b8e8",
   "metadata": {},
   "outputs": [],
   "source": [
    "# Stop-words\n",
    "russian_stopwords = set(stopwords.words(\"russian\"))\n",
    "\n",
    "# Lemmatizator\n",
    "nlp = spacy.load(\"ru_core_news_sm\")\n",
    "\n",
    "# Регулярные выражения\n",
    "RE_HTML = re.compile(r'<.*?>')\n",
    "RE_EMOJI = re.compile(r'[\\U00010000-\\U0001FFFF]', flags=re.UNICODE)\n",
    "\n",
    "# Clean funtion\n",
    "def clean_text(text):\n",
    "    text = str(text).lower() # Lowercase\n",
    "    text = RE_HTML.sub('', text) # HTML\n",
    "    text = RE_EMOJI.sub('', text) # Emoji\n",
    "    text = re.sub(r'[^\\w\\s]', ' ', text) # Punctuation marks\n",
    "    text = re.sub(r'\\d+', '', text) # Numbers\n",
    "    text = re.sub(r'\\s+', ' ', text).strip() # Extra spaces\n",
    "    \n",
    "    doc = nlp(text)\n",
    "    tokens = [token.lemma_ for token in doc]\n",
    "    tokens = [t for t in tokens if t and t not in russian_stopwords] # if t remove empty tokens\n",
    "    return ' '.join(tokens)\n"
   ]
  },
  {
   "cell_type": "code",
   "execution_count": null,
   "id": "cb3fbb52",
   "metadata": {},
   "outputs": [
    {
     "name": "stderr",
     "output_type": "stream",
     "text": [
      "100%|██████████| 43553/43553 [07:13<00:00, 100.44it/s]\n"
     ]
    },
    {
     "data": {
      "text/html": [
       "<div>\n",
       "<style scoped>\n",
       "    .dataframe tbody tr th:only-of-type {\n",
       "        vertical-align: middle;\n",
       "    }\n",
       "\n",
       "    .dataframe tbody tr th {\n",
       "        vertical-align: top;\n",
       "    }\n",
       "\n",
       "    .dataframe thead th {\n",
       "        text-align: right;\n",
       "    }\n",
       "</style>\n",
       "<table border=\"1\" class=\"dataframe\">\n",
       "  <thead>\n",
       "    <tr style=\"text-align: right;\">\n",
       "      <th></th>\n",
       "      <th>text</th>\n",
       "      <th>relevant</th>\n",
       "      <th>clean</th>\n",
       "    </tr>\n",
       "  </thead>\n",
       "  <tbody>\n",
       "    <tr>\n",
       "      <th>0</th>\n",
       "      <td>Единственный в стране, нисколько не сомневаюсь...</td>\n",
       "      <td>1</td>\n",
       "      <td>единственный страна нисколько сомневаться это ...</td>\n",
       "    </tr>\n",
       "    <tr>\n",
       "      <th>1</th>\n",
       "      <td>Замечательная женщина и преподаватель!🌺</td>\n",
       "      <td>1</td>\n",
       "      <td>замечательный женщина преподаватель</td>\n",
       "    </tr>\n",
       "    <tr>\n",
       "      <th>2</th>\n",
       "      <td>Пересдача,курсовая  ,удача 😁не все так плохо в...</td>\n",
       "      <td>1</td>\n",
       "      <td>пересдача курсовой удача плохой вроде</td>\n",
       "    </tr>\n",
       "    <tr>\n",
       "      <th>3</th>\n",
       "      <td>Для потенциальных абитуриентов (студентов) пол...</td>\n",
       "      <td>1</td>\n",
       "      <td>потенциальный абитуриент студент получить весь...</td>\n",
       "    </tr>\n",
       "    <tr>\n",
       "      <th>4</th>\n",
       "      <td>Рейтинг Вуза это конечно здорово, но 5 бюджетн...</td>\n",
       "      <td>1</td>\n",
       "      <td>рейтинг вуз это здоровый бюджетный место посту...</td>\n",
       "    </tr>\n",
       "  </tbody>\n",
       "</table>\n",
       "</div>"
      ],
      "text/plain": [
       "                                                text  relevant  \\\n",
       "0  Единственный в стране, нисколько не сомневаюсь...         1   \n",
       "1            Замечательная женщина и преподаватель!🌺         1   \n",
       "2  Пересдача,курсовая  ,удача 😁не все так плохо в...         1   \n",
       "3  Для потенциальных абитуриентов (студентов) пол...         1   \n",
       "4  Рейтинг Вуза это конечно здорово, но 5 бюджетн...         1   \n",
       "\n",
       "                                               clean  \n",
       "0  единственный страна нисколько сомневаться это ...  \n",
       "1                замечательный женщина преподаватель  \n",
       "2              пересдача курсовой удача плохой вроде  \n",
       "3  потенциальный абитуриент студент получить весь...  \n",
       "4  рейтинг вуз это здоровый бюджетный место посту...  "
      ]
     },
     "metadata": {},
     "output_type": "display_data"
    }
   ],
   "source": [
    "# Cleaning\n",
    "tqdm.pandas()\n",
    "df['clean'] = df['text'].progress_apply(clean_text)\n",
    "display(df.head(5))"
   ]
  },
  {
   "cell_type": "code",
   "execution_count": null,
   "id": "451e3c5b",
   "metadata": {},
   "outputs": [
    {
     "name": "stdout",
     "output_type": "stream",
     "text": [
      "0\n"
     ]
    }
   ],
   "source": [
    "# Check\n",
    "print(df['clean'].isna().sum())"
   ]
  },
  {
   "cell_type": "code",
   "execution_count": null,
   "id": "cbb41112",
   "metadata": {},
   "outputs": [],
   "source": [
    "# Save\n",
    "df.to_csv(\"clean_comments.csv\", index=False)"
   ]
  }
 ],
 "metadata": {
  "kernelspec": {
   "display_name": "Python 3",
   "language": "python",
   "name": "python3"
  },
  "language_info": {
   "codemirror_mode": {
    "name": "ipython",
    "version": 3
   },
   "file_extension": ".py",
   "mimetype": "text/x-python",
   "name": "python",
   "nbconvert_exporter": "python",
   "pygments_lexer": "ipython3",
   "version": "3.13.3"
  }
 },
 "nbformat": 4,
 "nbformat_minor": 5
}
